{
 "cells": [
  {
   "cell_type": "code",
   "execution_count": 2,
   "id": "33302721",
   "metadata": {},
   "outputs": [
    {
     "name": "stdout",
     "output_type": "stream",
     "text": [
      "1\n",
      "2\n"
     ]
    }
   ],
   "source": [
    "for i in range(1,6):\n",
    "    if i == 3:\n",
    "        break # Exit the loop when i is 3\n",
    "        \n",
    "    print(i)"
   ]
  },
  {
   "cell_type": "code",
   "execution_count": 3,
   "id": "03862571",
   "metadata": {},
   "outputs": [
    {
     "name": "stdout",
     "output_type": "stream",
     "text": [
      "1\n",
      "2\n",
      "4\n",
      "5\n"
     ]
    }
   ],
   "source": [
    "for i in range (1,6):\n",
    "    if i == 3:\n",
    "        continue # Skip the current interation when i is 3\n",
    "        \n",
    "    print(i)"
   ]
  },
  {
   "cell_type": "code",
   "execution_count": 4,
   "id": "fba081d5",
   "metadata": {},
   "outputs": [
    {
     "name": "stdout",
     "output_type": "stream",
     "text": [
      "1\n",
      "3\n",
      "5\n"
     ]
    }
   ],
   "source": [
    "def some_function():\n",
    "    pass # to be implemented later \n",
    "\n",
    "for i in range(1,6):\n",
    "    if i % 2 ==0:\n",
    "        pass # do nothing for even numbers\n",
    "    else:\n",
    "        print(i)"
   ]
  },
  {
   "cell_type": "code",
   "execution_count": null,
   "id": "b9909d53",
   "metadata": {},
   "outputs": [],
   "source": [
    "# pop \"pop\" is a method of the listdata type in python\n",
    "# It is used to remonve and return the element at a specified index from the list\n",
    "# If no index is provided, it removes and returns the last element\\\n",
    "# pop is useful when you want to both remove an element and use it value\n"
   ]
  },
  {
   "cell_type": "code",
   "execution_count": 6,
   "id": "81abc633",
   "metadata": {},
   "outputs": [
    {
     "name": "stdout",
     "output_type": "stream",
     "text": [
      "bananna\n"
     ]
    }
   ],
   "source": [
    "fruits = ['apple', 'bananna', 'orange', 'grapes']\n",
    "removed_fruit = fruits.pop(1) # Remove and return the element of the index 1 (bananna)\n",
    "print(removed_fruit)"
   ]
  },
  {
   "cell_type": "code",
   "execution_count": 9,
   "id": "7f238981",
   "metadata": {},
   "outputs": [],
   "source": [
    "# Quesion: what is pickling and unpickling in python?\n",
    "''' pickling and unpickling are the process used to serialize and deseralize python objects, allowing you to convert \n",
    "complex data structures (such as lists, dictonaries, or cusom objects) ito a byte streams and viceversa'''\n",
    "\n",
    "# - Pickling: Process of converting python object into byte stream so that it can be stored in a file or trnasferred over a network\n",
    "# when you pickle an object, you are essentailly converting it into a binary format that can be easily sotred or transmitted\n",
    "\n",
    "import pickle \n",
    "data = {'name': 'Tej', 'age': 35, 'city': 'Texas'}\n",
    "#Pick the data and write it to a file:\n",
    "with open('data.pickle', 'wb') as file:  # with statement is used with the file handaling to ensure that the file is \n",
    "    # properly closed after its suite finished execution, even if an exception occurs.\n",
    "    pickle.dump(data, file) # the pickle.dump() function is used to serialize (pickle) the python object 'data' and \n",
    "    # write it to the file specified by the file \"object\"\n",
    "    "
   ]
  },
  {
   "cell_type": "code",
   "execution_count": 11,
   "id": "f7c3e4d9",
   "metadata": {},
   "outputs": [
    {
     "name": "stdout",
     "output_type": "stream",
     "text": [
      "{'name': 'Tej', 'age': 35, 'city': 'Texas'}\n"
     ]
    }
   ],
   "source": [
    "### - Unpickling is the process to converting the byte stream back into a python object. It allow you to reconstruct\n",
    "### the orginalpython object from the binary format\n",
    "\n",
    "# the pickle moduel is also used fro unpickling\n",
    "import pickle \n",
    "\n",
    "#unpickle the data from file\n",
    "with open('data.pickle', 'rb') as file:\n",
    "    loaded_data = pickle.load(file)\n",
    "    \n",
    "print(loaded_data)"
   ]
  },
  {
   "cell_type": "code",
   "execution_count": 19,
   "id": "f529cd2a",
   "metadata": {},
   "outputs": [
    {
     "data": {
      "text/plain": [
       "[3, 6, 9]"
      ]
     },
     "execution_count": 19,
     "metadata": {},
     "output_type": "execute_result"
    }
   ],
   "source": [
    "list_1 = [1,2,3] #define list_1\n",
    "#using list concept and list function\n",
    "# to multiply each value of list\n",
    "list_2 = []\n",
    "for i in list_1:\n",
    "    x = i*3\n",
    "    list_2.append(x)\n",
    "    \n",
    "list_2"
   ]
  },
  {
   "cell_type": "code",
   "execution_count": 21,
   "id": "bfffa6ef",
   "metadata": {},
   "outputs": [
    {
     "data": {
      "text/plain": [
       "[1, 2, 4, 0, 0, 0]"
      ]
     },
     "execution_count": 21,
     "metadata": {},
     "output_type": "execute_result"
    }
   ],
   "source": [
    "## Move zero to the end of the list\n",
    "list = [1, 0, 2, 0, 4, 0]\n",
    "\n",
    "for item in list:\n",
    "    if item == 0:\n",
    "        list.remove(item)\n",
    "        list.append(item)\n",
    "        \n",
    "list"
   ]
  },
  {
   "cell_type": "code",
   "execution_count": 149,
   "id": "bd8e8679",
   "metadata": {},
   "outputs": [
    {
     "data": {
      "text/plain": [
       "[1, 2, 3, 4, 5, 0, 0]"
      ]
     },
     "execution_count": 149,
     "metadata": {},
     "output_type": "execute_result"
    }
   ],
   "source": [
    "list = [0, 0, 1, 2, 3, 4,5]\n",
    "for item in list:\n",
    "    if item == 0:\n",
    "        list.remove(item)\n",
    "        list.append(item)\n",
    "        \n",
    "list"
   ]
  },
  {
   "cell_type": "code",
   "execution_count": 24,
   "id": "d73d43c5",
   "metadata": {
    "scrolled": true
   },
   "outputs": [
    {
     "name": "stdout",
     "output_type": "stream",
     "text": [
      "Hello world! I am Tej.\n"
     ]
    }
   ],
   "source": [
    "# how to print new line without using print\n",
    "print('Hello world!',end = \"\")\n",
    "print(' I am Tej.')   # We can add to lines without using print by using end parameter and the end as show in above\n",
    "\n"
   ]
  },
  {
   "cell_type": "code",
   "execution_count": 154,
   "id": "d84b7ebd",
   "metadata": {},
   "outputs": [
    {
     "name": "stdout",
     "output_type": "stream",
     "text": [
      "[[0. 0. 0. 0. 0.]\n",
      " [0. 0. 0. 0. 0.]\n",
      " [0. 0. 0. 0. 0.]\n",
      " [0. 0. 0. 0. 0.]\n",
      " [0. 0. 0. 0. 0.]]\n"
     ]
    }
   ],
   "source": [
    "import numpy as np\n",
    "n1 = np.zeros([5,5])\n",
    "print(n1)"
   ]
  },
  {
   "cell_type": "code",
   "execution_count": null,
   "id": "cc838cf3",
   "metadata": {},
   "outputs": [],
   "source": []
  },
  {
   "cell_type": "code",
   "execution_count": 25,
   "id": "aba3aaaf",
   "metadata": {},
   "outputs": [
    {
     "name": "stdout",
     "output_type": "stream",
     "text": [
      "array('i', [1, 3, 4, 6])\n",
      "<class 'array.array'>\n"
     ]
    }
   ],
   "source": [
    "import array as arr\n",
    "my_arr = arr.array('i', [1, 3, 4, 6])\n",
    "print(my_arr)\n",
    "print(type(my_arr))"
   ]
  },
  {
   "cell_type": "code",
   "execution_count": 26,
   "id": "a3882c0a",
   "metadata": {
    "scrolled": true
   },
   "outputs": [
    {
     "name": "stdout",
     "output_type": "stream",
     "text": [
      "{1: 'john', 2: 'raj', 3: [1, 2, 3]}\n"
     ]
    }
   ],
   "source": [
    "my_dict = { 1: 'john',\n",
    "          2 : 'raj',\n",
    "          3 : [1, 2, 3]\n",
    "          }\n",
    "print(my_dict)"
   ]
  },
  {
   "cell_type": "code",
   "execution_count": 29,
   "id": "4b130742",
   "metadata": {},
   "outputs": [
    {
     "name": "stdout",
     "output_type": "stream",
     "text": [
      "2\n",
      "4\n"
     ]
    }
   ],
   "source": [
    "def absolute_value(num):\n",
    "    '''This function returns the absolute value of the entered numbers'''\n",
    "    if num >=0:\n",
    "        return num\n",
    "    else:\n",
    "        return -num\n",
    "    \n",
    "print(absolute_value(2))\n",
    "print(absolute_value(-4))"
   ]
  },
  {
   "cell_type": "code",
   "execution_count": 30,
   "id": "005149fd",
   "metadata": {},
   "outputs": [
    {
     "name": "stdout",
     "output_type": "stream",
     "text": [
      "orginal string: Hello!\n",
      "reversed string: !olleH\n"
     ]
    }
   ],
   "source": [
    "def reverse(x):\n",
    "    result = \"\"\n",
    "    for i in x:\n",
    "        result = i + result\n",
    "        \n",
    "    return result\n",
    "x = \"Hello!\"\n",
    "print(\"orginal string:\", x)\n",
    "print(\"reversed string:\", reverse(x))"
   ]
  },
  {
   "cell_type": "code",
   "execution_count": 158,
   "id": "7c94ecde",
   "metadata": {},
   "outputs": [
    {
     "name": "stdout",
     "output_type": "stream",
     "text": [
      "dlrow olleH\n"
     ]
    }
   ],
   "source": [
    "x = \"Hello world\"\n",
    "print(x[::-1])"
   ]
  },
  {
   "cell_type": "code",
   "execution_count": 40,
   "id": "ca0fd5c5",
   "metadata": {
    "scrolled": true
   },
   "outputs": [
    {
     "name": "stdout",
     "output_type": "stream",
     "text": [
      "0 1 1 2 3 5 8 13 21 34 "
     ]
    }
   ],
   "source": [
    "#fibonacci Series from recursion method\n",
    "def fib(n):\n",
    "    if n ==0:\n",
    "        return 0\n",
    "    elif n == 1:\n",
    "        return 1\n",
    "    else:\n",
    "        return fib(n-2)+fib(n-1)\n",
    "    \n",
    "    \n",
    "for n in range(10):\n",
    "    print(fib(n), end = \" \")\n",
    "    "
   ]
  },
  {
   "cell_type": "code",
   "execution_count": 162,
   "id": "cce69fff",
   "metadata": {},
   "outputs": [
    {
     "name": "stdout",
     "output_type": "stream",
     "text": [
      "1 1 2 3 5 "
     ]
    }
   ],
   "source": [
    "def fab(n):\n",
    "    if n == 0:\n",
    "        return  0\n",
    "    elif n == 1:\n",
    "        return 1\n",
    "    else:\n",
    "        return fab(n-2)+fab(n-1)\n",
    "    \n",
    "for n in range(1,6):\n",
    "    print(fab(n), end = ' ')\n"
   ]
  },
  {
   "cell_type": "code",
   "execution_count": null,
   "id": "01e631a2",
   "metadata": {},
   "outputs": [],
   "source": []
  },
  {
   "cell_type": "code",
   "execution_count": null,
   "id": "0f3906f3",
   "metadata": {},
   "outputs": [],
   "source": []
  },
  {
   "cell_type": "code",
   "execution_count": 41,
   "id": "b54b7c21",
   "metadata": {},
   "outputs": [
    {
     "name": "stdout",
     "output_type": "stream",
     "text": [
      "elppA\n"
     ]
    }
   ],
   "source": [
    "## INbuilt reverse function\n",
    "\n",
    "x = \"Apple\"\n",
    "result = \"\".join(reversed(x))  # On wrapping the join() function around it will prepend each character to the empety string on whihc the dot operator is used\n",
    "print(result)"
   ]
  },
  {
   "cell_type": "code",
   "execution_count": 42,
   "id": "bc4f4b77",
   "metadata": {},
   "outputs": [
    {
     "name": "stdout",
     "output_type": "stream",
     "text": [
      "elppA\n"
     ]
    }
   ],
   "source": [
    "x= \"Apple\"\n",
    "print(x[::-1])'''# the argument for the step is -1, This will imply start from the last character (-1 is hte negative \n",
    " index for the last string and take one step backward until the first character of the string'''\n"
   ]
  },
  {
   "cell_type": "code",
   "execution_count": 53,
   "id": "f207a042",
   "metadata": {
    "scrolled": false
   },
   "outputs": [
    {
     "name": "stdout",
     "output_type": "stream",
     "text": [
      "Prime number bewteen 100 and 120 are\n",
      "101\n",
      "103\n",
      "107\n",
      "109\n",
      "113\n"
     ]
    }
   ],
   "source": [
    "# python program to display all the prime number within the display\n",
    "\n",
    "lower = 100\n",
    "upper = 120\n",
    "\n",
    "print(\"Prime number bewteen\", lower, \"and\", upper, \"are\")\n",
    "\n",
    "for num in range (lower, upper + 1):\n",
    "    if i > 1:\n",
    "        for i in range(2, num):\n",
    "            if num % i ==0:\n",
    "                break\n",
    "        else:\n",
    "            print(num)\n",
    "        \n",
    "    "
   ]
  },
  {
   "cell_type": "code",
   "execution_count": 169,
   "id": "74d60070",
   "metadata": {},
   "outputs": [
    {
     "name": "stdout",
     "output_type": "stream",
     "text": [
      "Prime number bewteen 100 and 120 are\n",
      "101\n",
      "103\n",
      "107\n",
      "109\n",
      "113\n"
     ]
    }
   ],
   "source": [
    "lower = 100\n",
    "upper = 120\n",
    "\n",
    "print(\"Prime number bewteen\", lower, \"and\", upper, \"are\")\n",
    "\n",
    "for num in range (lower, upper + 1):\n",
    "    if i > 1:\n",
    "        for i in range(2, num):\n",
    "            if num % i ==0:\n",
    "                break\n",
    "        else:\n",
    "            print(num)\n",
    "        "
   ]
  },
  {
   "cell_type": "code",
   "execution_count": null,
   "id": "052c893a",
   "metadata": {},
   "outputs": [],
   "source": []
  },
  {
   "cell_type": "code",
   "execution_count": 54,
   "id": "0c76caca",
   "metadata": {},
   "outputs": [
    {
     "name": "stdout",
     "output_type": "stream",
     "text": [
      "(4, 6, 7, 'Jp', 'hi')\n"
     ]
    }
   ],
   "source": [
    "tuple = (4, 6, 7, \"Jp\", \"hi\")\n",
    "print(tuple)"
   ]
  },
  {
   "cell_type": "code",
   "execution_count": null,
   "id": "6f2e538e",
   "metadata": {},
   "outputs": [],
   "source": []
  },
  {
   "cell_type": "code",
   "execution_count": null,
   "id": "53f6f660",
   "metadata": {},
   "outputs": [],
   "source": []
  },
  {
   "cell_type": "code",
   "execution_count": 56,
   "id": "afda5c4b",
   "metadata": {},
   "outputs": [
    {
     "data": {
      "text/plain": [
       "5"
      ]
     },
     "execution_count": 56,
     "metadata": {},
     "output_type": "execute_result"
    }
   ],
   "source": [
    "tuple[0]  ##couple of handy builint method are count and index\n",
    "len(tuple)"
   ]
  },
  {
   "cell_type": "code",
   "execution_count": 58,
   "id": "aadfaaa4",
   "metadata": {},
   "outputs": [
    {
     "name": "stdout",
     "output_type": "stream",
     "text": [
      "(1, 3, 'b', 2, 4, 'c', 'True')\n"
     ]
    }
   ],
   "source": [
    "tup1 = (1, 3, \"b\")\n",
    "tup2 = (2, 4, \"c\", \"True\")\n",
    "print(tup1 + tup2)"
   ]
  },
  {
   "cell_type": "code",
   "execution_count": 61,
   "id": "711546d8",
   "metadata": {
    "scrolled": false
   },
   "outputs": [
    {
     "name": "stdout",
     "output_type": "stream",
     "text": [
      "[[0. 0. 0. 0. 0.]\n",
      " [0. 0. 0. 0. 0.]\n",
      " [0. 0. 0. 0. 0.]\n",
      " [0. 0. 0. 0. 0.]\n",
      " [0. 0. 0. 0. 0.]]\n"
     ]
    }
   ],
   "source": [
    "# how to initalize a 5*5 NumPy array with only zeroes?\n",
    "import numpy as np\n",
    "n1 = np.zeros((5,5))\n",
    "print(n1)"
   ]
  },
  {
   "cell_type": "code",
   "execution_count": 64,
   "id": "97a2d64d",
   "metadata": {
    "scrolled": true
   },
   "outputs": [
    {
     "name": "stdout",
     "output_type": "stream",
     "text": [
      "0        1\n",
      "1        2\n",
      "2    Apple\n",
      "3      4.0\n",
      "4     True\n",
      "dtype: object\n",
      "<class 'pandas.core.series.Series'>\n"
     ]
    }
   ],
   "source": [
    "# What is pandas series?\n",
    "# series is one-dimensional pandas data structure that support data of almost any type\n",
    "import pandas as pd\n",
    "data = [\"1\", 2, \"Apple\", 4.0, True]\n",
    "series = pd.Series(data)\n",
    "print(series)\n",
    "print(type(series))"
   ]
  },
  {
   "cell_type": "code",
   "execution_count": 70,
   "id": "ac4ead7f",
   "metadata": {},
   "outputs": [
    {
     "name": "stdout",
     "output_type": "stream",
     "text": [
      "     cars   bikes\n",
      "0   Honda     KTM\n",
      "1  Suzuki  Pulasr\n",
      "2   Tesla   Shine\n",
      "3    TATA      RX\n"
     ]
    }
   ],
   "source": [
    "# How to create data frame from lists\n",
    "import pandas as pd\n",
    "df = pd.DataFrame()  # need empty data frame\n",
    "cars = ['Honda', 'Suzuki', 'Tesla', 'TATA']\n",
    "bikes = ['KTM', 'Pulasr', 'Shine', 'RX']\n",
    "df['cars']= cars  # addition of list as a individual columns in the dataframe\n",
    "df['bikes'] = bikes #addition of list as a individual columns in the dataframe\n",
    "print(df)"
   ]
  },
  {
   "cell_type": "code",
   "execution_count": 74,
   "id": "c53862c9",
   "metadata": {},
   "outputs": [
    {
     "name": "stdout",
     "output_type": "stream",
     "text": [
      "     cars   bikes\n",
      "0   Honda     KTM\n",
      "1  Suzuki  Pulasr\n",
      "2   Tesla   Shine\n",
      "3    TATA      RX\n"
     ]
    }
   ],
   "source": [
    "# how to create dataframe from dictonary\n",
    "\n",
    "df = pd.DataFrame()\n",
    "cars = ['Honda', 'Suzuki', 'Tesla', 'TATA']\n",
    "bikes = ['KTM', 'Pulasr', 'Shine', 'RX']\n",
    "\n",
    "d = {'cars':cars, 'bikes':bikes} # pass the argument to the dataframe\n",
    "df = pd.DataFrame(d) #\n",
    "print(df)\n",
    " \n"
   ]
  },
  {
   "cell_type": "code",
   "execution_count": 75,
   "id": "ef6ecea0",
   "metadata": {
    "scrolled": true
   },
   "outputs": [
    {
     "name": "stdout",
     "output_type": "stream",
     "text": [
      "      Salary    Cars\n",
      "Name                \n",
      "Raj     5000   Tesla\n",
      "John    1000     NaN\n",
      "Hari    3000  Suzuki\n",
      "Tej     6000     NaN\n"
     ]
    }
   ],
   "source": [
    "# how to combine DataFrames using join function \n",
    "df = pd.DataFrame()\n",
    "data1 = {'Name': ['Raj', 'John', 'Hari', 'Tej'],\n",
    "        'Salary': [5000, 1000, 3000, 6000]}\n",
    "df1 = pd.DataFrame(data1)\n",
    "\n",
    "data2 = {'Name': ['Raj', 'Hari', 'Rose', 'Prem'],\n",
    "        'Cars': [\"Tesla\", 'Suzuki', 'Ferrari', 'TATA']}\n",
    "df2 = pd.DataFrame(data2)\n",
    "Join_data = df1.set_index('Name').join(df2.set_index('Name'))\n",
    "print(Join_data)\n"
   ]
  },
  {
   "cell_type": "code",
   "execution_count": 170,
   "id": "4e726ae0",
   "metadata": {},
   "outputs": [
    {
     "name": "stdout",
     "output_type": "stream",
     "text": [
      "      Salary    Cars\n",
      "Name                \n",
      "Raj     5000   Tesla\n",
      "John    1000     NaN\n",
      "Hari    3000  Suzuki\n",
      "Tej     6000     NaN\n"
     ]
    }
   ],
   "source": [
    "data1 = {'Name': ['Raj', 'John', 'Hari', 'Tej'],\n",
    "        'Salary': [5000, 1000, 3000, 6000]}\n",
    "data2 = data2 = {'Name': ['Raj', 'Hari', 'Rose', 'Prem'],\n",
    "        'Cars': [\"Tesla\", 'Suzuki', 'Ferrari', 'TATA']}\n",
    "joined = df1.set_index(\"Name\").join(df2.set_index(\"Name\"))\n",
    "print(joined)"
   ]
  },
  {
   "cell_type": "code",
   "execution_count": null,
   "id": "27436d5f",
   "metadata": {},
   "outputs": [],
   "source": []
  },
  {
   "cell_type": "code",
   "execution_count": 78,
   "id": "e5773313",
   "metadata": {},
   "outputs": [
    {
     "name": "stdout",
     "output_type": "stream",
     "text": [
      "   Name  Salary    Cars\n",
      "0   Raj    5000   Tesla\n",
      "1  Hari    3000  Suzuki\n"
     ]
    }
   ],
   "source": [
    "# Merging of data in data frame\n",
    "df = pd.DataFrame()\n",
    "data1 = {'Name': ['Raj', 'John', 'Hari', 'Tej'],\n",
    "        'Salary': [5000, 1000, 3000, 6000]}\n",
    "df1 = pd.DataFrame(data1)\n",
    "\n",
    "data2 = {'Name': ['Raj', 'Hari', 'Rose', 'Prem'],\n",
    "        'Cars': [\"Tesla\", 'Suzuki', 'Ferrari', 'TATA']}\n",
    "df2 = pd.DataFrame(data2)\n",
    "Merge_data = pd.merge(df1,df2, on = 'Name', how = 'inner')  # on = 'Name' column specefies the merge on name column\n",
    "# The 'inner' keeps the rows only matching with name\n",
    "print(Merge_data)  "
   ]
  },
  {
   "cell_type": "code",
   "execution_count": 88,
   "id": "90b03a71",
   "metadata": {},
   "outputs": [
    {
     "name": "stdout",
     "output_type": "stream",
     "text": [
      "      Salary Department\n",
      "Name                   \n",
      "Raj     1000         IT\n",
      "John    2000    Finance\n",
      "Hari    3000    Physics\n",
      "Tej     4000    Biology\n"
     ]
    }
   ],
   "source": [
    "import pandas as pd\n",
    "#Sample data frame\n",
    "\n",
    "data1 = {'Name': ['Raj', 'John', 'Hari', 'Tej'],\n",
    "        'Salary': [1000, 2000, 3000, 4000],\n",
    "        'Department': ['IT', 'Finance', 'Physics', 'Biology']\n",
    "        }\n",
    "df= pd.DataFrame(data1)\n",
    "#print(df)\n",
    "#set the 'Name column as index'\n",
    "df.set_index('Name', inplace = True)\n",
    "print(df)"
   ]
  },
  {
   "cell_type": "code",
   "execution_count": 90,
   "id": "304745f7",
   "metadata": {
    "scrolled": true
   },
   "outputs": [
    {
     "name": "stdout",
     "output_type": "stream",
     "text": [
      "Salary           4000\n",
      "Department    Biology\n",
      "Name: Tej, dtype: object\n"
     ]
    }
   ],
   "source": [
    "Tej_data = df.loc['Tej']\n",
    "print(Tej_data)"
   ]
  },
  {
   "cell_type": "code",
   "execution_count": 100,
   "id": "d7df9f8a",
   "metadata": {},
   "outputs": [
    {
     "name": "stdout",
     "output_type": "stream",
     "text": [
      "x_mean is: 64.4\n",
      "x_std is: 117.82461542479145\n",
      "x_median is: 5.0\n"
     ]
    }
   ],
   "source": [
    "import numpy as np\n",
    "x = np.array([3, 5, 10, 300, 4])\n",
    "x_mean= x.mean()\n",
    "x_std = x.std()\n",
    "x_median = np.median(x)  # no median value is np arrays\n",
    "print(\"x_mean is:\", x_mean)\n",
    "print(\"x_std is:\", x_std)\n",
    "print('x_median is:', x_median)"
   ]
  },
  {
   "cell_type": "code",
   "execution_count": 101,
   "id": "27f5f7e6",
   "metadata": {},
   "outputs": [
    {
     "name": "stdout",
     "output_type": "stream",
     "text": [
      "64.4\n",
      "117.82461542479145\n",
      "5.0\n"
     ]
    }
   ],
   "source": [
    "import numpy as np\n",
    "x = np.array([3, 5, 10, 300, 4])\n",
    "print(np.mean(x))\n",
    "print(np.std(x))\n",
    "print(np.median(x))"
   ]
  },
  {
   "cell_type": "code",
   "execution_count": 104,
   "id": "e0b92d08",
   "metadata": {
    "scrolled": true
   },
   "outputs": [
    {
     "name": "stdout",
     "output_type": "stream",
     "text": [
      "apple\n"
     ]
    }
   ],
   "source": [
    "x = \"Apple\"\n",
    "print(x.lower())"
   ]
  },
  {
   "cell_type": "code",
   "execution_count": 106,
   "id": "9364ff62",
   "metadata": {},
   "outputs": [
    {
     "data": {
      "text/plain": [
       "dict_keys(['Name', 'Salary', 'Department'])"
      ]
     },
     "execution_count": 106,
     "metadata": {},
     "output_type": "execute_result"
    }
   ],
   "source": [
    "# How do you get a list of all keys in a dictionary\n",
    "data1 = {'Name': ['Raj', 'John', 'Hari', 'Tej'],\n",
    "        'Salary': [1000, 2000, 3000, 4000],\n",
    "        'Department': ['IT', 'Finance', 'Physics', 'Biology']\n",
    "        }\n",
    "data1.keys()"
   ]
  },
  {
   "cell_type": "code",
   "execution_count": 109,
   "id": "8ea9e29d",
   "metadata": {},
   "outputs": [
    {
     "name": "stdout",
     "output_type": "stream",
     "text": [
      "Apple\n"
     ]
    }
   ],
   "source": [
    "x = 'apple'\n",
    "print(x.capitalize())"
   ]
  },
  {
   "cell_type": "code",
   "execution_count": 113,
   "id": "5af29a83",
   "metadata": {
    "scrolled": true
   },
   "outputs": [
    {
     "name": "stdout",
     "output_type": "stream",
     "text": [
      "[0, 1, 3, 6, 4, 6, 9]\n"
     ]
    }
   ],
   "source": [
    "list = [0, 1, 3, 4, 6, 9]\n",
    "list.insert(3,6)\n",
    "print(list)\n"
   ]
  },
  {
   "cell_type": "code",
   "execution_count": 179,
   "id": "38a81863",
   "metadata": {},
   "outputs": [
    {
     "ename": "TypeError",
     "evalue": "'list' object is not callable",
     "output_type": "error",
     "traceback": [
      "\u001b[0;31m---------------------------------------------------------------------------\u001b[0m",
      "\u001b[0;31mTypeError\u001b[0m                                 Traceback (most recent call last)",
      "\u001b[0;32m/var/folders/_n/yqkwhlp51y5g1jy3k678jv8w0000gn/T/ipykernel_58980/1679885935.py\u001b[0m in \u001b[0;36m<module>\u001b[0;34m\u001b[0m\n\u001b[1;32m      1\u001b[0m \u001b[0mlist1\u001b[0m \u001b[0;34m=\u001b[0m \u001b[0;34m[\u001b[0m\u001b[0;36m1\u001b[0m\u001b[0;34m,\u001b[0m \u001b[0;36m3\u001b[0m\u001b[0;34m,\u001b[0m \u001b[0;36m3\u001b[0m\u001b[0;34m,\u001b[0m \u001b[0;36m5\u001b[0m\u001b[0;34m,\u001b[0m \u001b[0;36m7\u001b[0m\u001b[0;34m]\u001b[0m\u001b[0;34m\u001b[0m\u001b[0;34m\u001b[0m\u001b[0m\n\u001b[0;32m----> 2\u001b[0;31m \u001b[0mN_list\u001b[0m \u001b[0;34m=\u001b[0m \u001b[0mlist\u001b[0m\u001b[0;34m(\u001b[0m\u001b[0mset\u001b[0m\u001b[0;34m(\u001b[0m\u001b[0mlist1\u001b[0m\u001b[0;34m)\u001b[0m\u001b[0;34m)\u001b[0m\u001b[0;34m\u001b[0m\u001b[0;34m\u001b[0m\u001b[0m\n\u001b[0m\u001b[1;32m      3\u001b[0m \u001b[0mprint\u001b[0m\u001b[0;34m(\u001b[0m\u001b[0mN_list\u001b[0m\u001b[0;34m)\u001b[0m\u001b[0;34m\u001b[0m\u001b[0;34m\u001b[0m\u001b[0m\n",
      "\u001b[0;31mTypeError\u001b[0m: 'list' object is not callable"
     ]
    }
   ],
   "source": [
    "\n",
    "list1 = [1, 3, 3, 5, 7]\n",
    "N_list = list(set(list1))\n",
    "print(N_list)\n"
   ]
  },
  {
   "cell_type": "code",
   "execution_count": 180,
   "id": "06974ea7",
   "metadata": {},
   "outputs": [
    {
     "name": "stdout",
     "output_type": "stream",
     "text": [
      "[1, 3, 5, 7]\n"
     ]
    }
   ],
   "source": [
    "list = [1,3,3,5,7]\n",
    "N_list = []\n",
    "[N_list.append(x) for x in list if x not in N_list]\n",
    "print(N_list)"
   ]
  },
  {
   "cell_type": "code",
   "execution_count": 114,
   "id": "38aabf6b",
   "metadata": {},
   "outputs": [
    {
     "name": "stdout",
     "output_type": "stream",
     "text": [
      "120\n"
     ]
    }
   ],
   "source": [
    "#Recurssion\n",
    "\n",
    "def factorial(n):\n",
    "    if n == 0 or n == 1:\n",
    "        return 1\n",
    "    else:\n",
    "        return n * factorial(n-1)\n",
    "    \n",
    "print(factorial(5))"
   ]
  },
  {
   "cell_type": "code",
   "execution_count": 120,
   "id": "b3dcf799",
   "metadata": {},
   "outputs": [
    {
     "name": "stdout",
     "output_type": "stream",
     "text": [
      "[6, 8, 10]\n"
     ]
    }
   ],
   "source": [
    "list = [1, 3, 6, 7, 8, 10]\n",
    "even_list = [x for x in list if x % 2 == 0]\n",
    "print(even_list)"
   ]
  },
  {
   "cell_type": "code",
   "execution_count": 136,
   "id": "1317e6fa",
   "metadata": {},
   "outputs": [
    {
     "name": "stdout",
     "output_type": "stream",
     "text": [
      "[5, 6, 7, 8, 9]\n"
     ]
    },
    {
     "data": {
      "text/plain": [
       "5"
      ]
     },
     "execution_count": 136,
     "metadata": {},
     "output_type": "execute_result"
    }
   ],
   "source": [
    "A_list = [ i for i in range(5, 10)]\n",
    "print(A_list)\n",
    "len(A_list)"
   ]
  },
  {
   "cell_type": "code",
   "execution_count": 135,
   "id": "cef2332d",
   "metadata": {},
   "outputs": [
    {
     "name": "stdout",
     "output_type": "stream",
     "text": [
      "<class 'int'>\n",
      "<class 'str'>\n"
     ]
    }
   ],
   "source": [
    "n = 10\n",
    "print(type(n))\n",
    "New_n = str(n)\n",
    "print(type(New_n))"
   ]
  },
  {
   "cell_type": "code",
   "execution_count": 140,
   "id": "e74145ee",
   "metadata": {
    "scrolled": true
   },
   "outputs": [
    {
     "name": "stdout",
     "output_type": "stream",
     "text": [
      "['A ', ' B C']\n"
     ]
    }
   ],
   "source": [
    "letters = ('A , B C') # list dosnot works fro list  - only string\n",
    "\n",
    "n = letters.split(',')\n",
    "print(n)"
   ]
  },
  {
   "cell_type": "code",
   "execution_count": 181,
   "id": "a9642be7",
   "metadata": {},
   "outputs": [
    {
     "name": "stdout",
     "output_type": "stream",
     "text": [
      "b'Hello'\n"
     ]
    }
   ],
   "source": [
    "str = \"Hello\"\n",
    "byte_data = bytes(str, encoding = 'utf8')\n",
    "print(byte_data)"
   ]
  },
  {
   "cell_type": "code",
   "execution_count": null,
   "id": "23c314f6",
   "metadata": {},
   "outputs": [],
   "source": []
  },
  {
   "cell_type": "markdown",
   "id": "e6552e7a",
   "metadata": {},
   "source": [
    "# Can you denote the working of the bool() function with examples?\n",
    "\n",
    "The bool() function in python returns either logical True or False.\n",
    "It can output anythings else apart from the logical operation"
   ]
  },
  {
   "cell_type": "code",
   "execution_count": 146,
   "id": "975c1512",
   "metadata": {},
   "outputs": [
    {
     "name": "stdout",
     "output_type": "stream",
     "text": [
      "True\n",
      "True\n",
      "False\n",
      "False\n"
     ]
    }
   ],
   "source": [
    "a = \"Hello\"\n",
    "b = 15\n",
    "c = 0\n",
    "sample_list = []\n",
    "print(bool(a))\n",
    "print(bool(b))\n",
    "print(bool(c))\n",
    "print(bool(sample_list))"
   ]
  },
  {
   "cell_type": "code",
   "execution_count": null,
   "id": "bde1d5e2",
   "metadata": {},
   "outputs": [],
   "source": []
  },
  {
   "cell_type": "code",
   "execution_count": 1,
   "id": "50be21e0",
   "metadata": {},
   "outputs": [
    {
     "name": "stdout",
     "output_type": "stream",
     "text": [
      "[3, 4]\n"
     ]
    }
   ],
   "source": [
    "my_list = [1,2,3,4,5]\n",
    "result = my_list[-3:-1]\n",
    "print(result)"
   ]
  },
  {
   "cell_type": "code",
   "execution_count": 4,
   "id": "181ac1a9",
   "metadata": {},
   "outputs": [
    {
     "name": "stdout",
     "output_type": "stream",
     "text": [
      "c, b, a\n"
     ]
    }
   ],
   "source": [
    "# 03_letter_explosion.py\n",
    "print('{2}, {1}, {0}'.format(*'abc'))"
   ]
  },
  {
   "cell_type": "code",
   "execution_count": null,
   "id": "0d65ce51",
   "metadata": {},
   "outputs": [],
   "source": []
  }
 ],
 "metadata": {
  "kernelspec": {
   "display_name": "Python 3 (ipykernel)",
   "language": "python",
   "name": "python3"
  },
  "language_info": {
   "codemirror_mode": {
    "name": "ipython",
    "version": 3
   },
   "file_extension": ".py",
   "mimetype": "text/x-python",
   "name": "python",
   "nbconvert_exporter": "python",
   "pygments_lexer": "ipython3",
   "version": "3.9.7"
  }
 },
 "nbformat": 4,
 "nbformat_minor": 5
}
