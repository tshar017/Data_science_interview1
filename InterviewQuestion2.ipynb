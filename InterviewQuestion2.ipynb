{
 "cells": [
  {
   "cell_type": "markdown",
   "id": "22961635",
   "metadata": {},
   "source": [
    "# 1. How to create new column in pandas by using values from other columns?"
   ]
  },
  {
   "cell_type": "code",
   "execution_count": 9,
   "id": "c5ec6842",
   "metadata": {
    "scrolled": false
   },
   "outputs": [
    {
     "data": {
      "text/html": [
       "<div>\n",
       "<style scoped>\n",
       "    .dataframe tbody tr th:only-of-type {\n",
       "        vertical-align: middle;\n",
       "    }\n",
       "\n",
       "    .dataframe tbody tr th {\n",
       "        vertical-align: top;\n",
       "    }\n",
       "\n",
       "    .dataframe thead th {\n",
       "        text-align: right;\n",
       "    }\n",
       "</style>\n",
       "<table border=\"1\" class=\"dataframe\">\n",
       "  <thead>\n",
       "    <tr style=\"text-align: right;\">\n",
       "      <th></th>\n",
       "      <th>col1</th>\n",
       "      <th>col2</th>\n",
       "      <th>sum</th>\n",
       "      <th>diff</th>\n",
       "    </tr>\n",
       "  </thead>\n",
       "  <tbody>\n",
       "    <tr>\n",
       "      <th>0</th>\n",
       "      <td>1</td>\n",
       "      <td>2</td>\n",
       "      <td>3</td>\n",
       "      <td>-1</td>\n",
       "    </tr>\n",
       "    <tr>\n",
       "      <th>1</th>\n",
       "      <td>2</td>\n",
       "      <td>5</td>\n",
       "      <td>7</td>\n",
       "      <td>-3</td>\n",
       "    </tr>\n",
       "    <tr>\n",
       "      <th>2</th>\n",
       "      <td>3</td>\n",
       "      <td>6</td>\n",
       "      <td>9</td>\n",
       "      <td>-3</td>\n",
       "    </tr>\n",
       "  </tbody>\n",
       "</table>\n",
       "</div>"
      ],
      "text/plain": [
       "   col1  col2  sum  diff\n",
       "0     1     2    3    -1\n",
       "1     2     5    7    -3\n",
       "2     3     6    9    -3"
      ]
     },
     "execution_count": 9,
     "metadata": {},
     "output_type": "execute_result"
    }
   ],
   "source": [
    "import pandas as pd #importing library\n",
    "a = [1, 3, 5] # list1\n",
    "b = [3, 5, 7] #lis2\n",
    "\n",
    "a = {'col1': a, 'col2': b} # dict\n",
    "df = pd.DataFrame(d)  #creating a dataframe\n",
    "\n",
    "df['sum'] = df['col1'] + df['col2']  #logic is happening here\n",
    "df['diff'] = df['col1'] - df['col2']  #logic is happening here\n",
    "\n",
    "\n",
    "df"
   ]
  },
  {
   "cell_type": "markdown",
   "id": "81be426e",
   "metadata": {},
   "source": [
    "2. Whatare the different functions that can be used by groupby in pandas?"
   ]
  },
  {
   "cell_type": "markdown",
   "id": "695369b7",
   "metadata": {},
   "source": [
    "The groupby() function in pandas can be used with multiple aggegrate functions. some of which are sum(), cout(), std."
   ]
  },
  {
   "cell_type": "markdown",
   "id": "f71d4a97",
   "metadata": {},
   "source": [
    "3. How to select columns in pandas and add them to a new DataFrame? What if there are two columns with the same name?\n",
    "\n",
    "\n",
    "If df is DataFrame in pandas, df.columns gives the list of columns.\n",
    "We can form new columns by selecting particular columns. \n",
    "If there are two columns with the same then the both columns get copied to the new DataFrame."
   ]
  },
  {
   "cell_type": "code",
   "execution_count": 15,
   "id": "1a25b240",
   "metadata": {},
   "outputs": [
    {
     "name": "stdout",
     "output_type": "stream",
     "text": [
      "   col1  col2\n",
      "0     1     3\n",
      "1     3     5\n",
      "2     5     7\n"
     ]
    }
   ],
   "source": [
    "import pandas as pd\n",
    "\n",
    "d = {'col1': [1, 3, 5], 'col2': [3, 5, 7], 'col3': [4, 6, 7]}  #defining column\n",
    "df = pd.DataFrame(d)  #converting into dataframe\n",
    "#print(df)\n",
    "\n",
    "#selecting column and adding to the new DataFrame\n",
    "New_d = pd.DataFrame() #defining empty new data frame\n",
    "New_d['col1'] = d['col1']\n",
    "New_d['col2'] = d['col2']\n",
    "df = pd.DataFrame(New_d)\n",
    "print(New_d)"
   ]
  },
  {
   "cell_type": "code",
   "execution_count": null,
   "id": "a71a5823",
   "metadata": {},
   "outputs": [],
   "source": []
  },
  {
   "cell_type": "markdown",
   "id": "f60a6fef",
   "metadata": {},
   "source": [
    "4. How to delete a column or group of columns in pandas? \n",
    "\n",
    "The drop() function can be used to delete the columns from a DataFrame."
   ]
  },
  {
   "cell_type": "code",
   "execution_count": 26,
   "id": "e67983b8",
   "metadata": {},
   "outputs": [
    {
     "data": {
      "text/html": [
       "<div>\n",
       "<style scoped>\n",
       "    .dataframe tbody tr th:only-of-type {\n",
       "        vertical-align: middle;\n",
       "    }\n",
       "\n",
       "    .dataframe tbody tr th {\n",
       "        vertical-align: top;\n",
       "    }\n",
       "\n",
       "    .dataframe thead th {\n",
       "        text-align: right;\n",
       "    }\n",
       "</style>\n",
       "<table border=\"1\" class=\"dataframe\">\n",
       "  <thead>\n",
       "    <tr style=\"text-align: right;\">\n",
       "      <th></th>\n",
       "      <th>col1</th>\n",
       "      <th>col2</th>\n",
       "      <th>col3</th>\n",
       "    </tr>\n",
       "  </thead>\n",
       "  <tbody>\n",
       "    <tr>\n",
       "      <th>0</th>\n",
       "      <td>1</td>\n",
       "      <td>3</td>\n",
       "      <td>4</td>\n",
       "    </tr>\n",
       "    <tr>\n",
       "      <th>1</th>\n",
       "      <td>3</td>\n",
       "      <td>5</td>\n",
       "      <td>6</td>\n",
       "    </tr>\n",
       "  </tbody>\n",
       "</table>\n",
       "</div>"
      ],
      "text/plain": [
       "   col1  col2  col3\n",
       "0     1     3     4\n",
       "1     3     5     6"
      ]
     },
     "execution_count": 26,
     "metadata": {},
     "output_type": "execute_result"
    }
   ],
   "source": [
    "import pandas as pd\n",
    "\n",
    "d = {'col1': [1, 3, 5], 'col2': [3, 5, 7], 'col3': [4, 6, 7]}  #defining column\n",
    "df = pd.DataFrame(d)  #converting into dataframe\n",
    "#print(df)\n",
    "\n",
    "#New_df = df.drop(['col1'], axis = 1)  # to drop column- drop used to drop column\n",
    "\n",
    "# droping the rows that contain 7 in any columns  \n",
    "New_df = df.loc[~df.isin([7]).any(axis = 1)] # isin([7]) method is used to create a Boolen data frame weather each elemenst is equla to 7 in the given data frame\n",
    "New_df"
   ]
  },
  {
   "cell_type": "code",
   "execution_count": 36,
   "id": "5abed1d3",
   "metadata": {},
   "outputs": [
    {
     "name": "stdout",
     "output_type": "stream",
     "text": [
      "   col1  col2  col3\n",
      "0     1     3     4\n",
      "1     3     5     6\n",
      "2     5     7     7\n"
     ]
    },
    {
     "data": {
      "text/html": [
       "<div>\n",
       "<style scoped>\n",
       "    .dataframe tbody tr th:only-of-type {\n",
       "        vertical-align: middle;\n",
       "    }\n",
       "\n",
       "    .dataframe tbody tr th {\n",
       "        vertical-align: top;\n",
       "    }\n",
       "\n",
       "    .dataframe thead th {\n",
       "        text-align: right;\n",
       "    }\n",
       "</style>\n",
       "<table border=\"1\" class=\"dataframe\">\n",
       "  <thead>\n",
       "    <tr style=\"text-align: right;\">\n",
       "      <th></th>\n",
       "      <th>col1</th>\n",
       "      <th>col2</th>\n",
       "      <th>col3</th>\n",
       "    </tr>\n",
       "  </thead>\n",
       "  <tbody>\n",
       "    <tr>\n",
       "      <th>1</th>\n",
       "      <td>3</td>\n",
       "      <td>5</td>\n",
       "      <td>6</td>\n",
       "    </tr>\n",
       "    <tr>\n",
       "      <th>2</th>\n",
       "      <td>5</td>\n",
       "      <td>7</td>\n",
       "      <td>7</td>\n",
       "    </tr>\n",
       "  </tbody>\n",
       "</table>\n",
       "</div>"
      ],
      "text/plain": [
       "   col1  col2  col3\n",
       "1     3     5     6\n",
       "2     5     7     7"
      ]
     },
     "execution_count": 36,
     "metadata": {},
     "output_type": "execute_result"
    }
   ],
   "source": [
    "# to drop the rows\n",
    "\n",
    "import pandas as pd\n",
    "\n",
    "d = {'col1': [1, 3, 5], 'col2': [3, 5, 7], 'col3': [4, 6, 7]}  #defining column\n",
    "df = pd.DataFrame(d)  #converting into dataframe\n",
    "print(df)\n",
    "row_to_drop = [0,0]\n",
    "df = df.drop(index = row_to_drop)\n",
    "df"
   ]
  },
  {
   "cell_type": "code",
   "execution_count": null,
   "id": "18053043",
   "metadata": {},
   "outputs": [],
   "source": []
  },
  {
   "cell_type": "markdown",
   "id": "b136619d",
   "metadata": {},
   "source": [
    "Q. 5 What is the reindexing in pandas\n",
    "\n",
    "Reindexing is the process of re-assigning the index of a pandas Dataframe\n"
   ]
  },
  {
   "cell_type": "code",
   "execution_count": 40,
   "id": "c6dc7523",
   "metadata": {},
   "outputs": [
    {
     "data": {
      "text/html": [
       "<div>\n",
       "<style scoped>\n",
       "    .dataframe tbody tr th:only-of-type {\n",
       "        vertical-align: middle;\n",
       "    }\n",
       "\n",
       "    .dataframe tbody tr th {\n",
       "        vertical-align: top;\n",
       "    }\n",
       "\n",
       "    .dataframe thead th {\n",
       "        text-align: right;\n",
       "    }\n",
       "</style>\n",
       "<table border=\"1\" class=\"dataframe\">\n",
       "  <thead>\n",
       "    <tr style=\"text-align: right;\">\n",
       "      <th></th>\n",
       "      <th>cars</th>\n",
       "      <th>bikes</th>\n",
       "    </tr>\n",
       "  </thead>\n",
       "  <tbody>\n",
       "    <tr>\n",
       "      <th>10</th>\n",
       "      <td>Tesla</td>\n",
       "      <td>bajaj</td>\n",
       "    </tr>\n",
       "    <tr>\n",
       "      <th>20</th>\n",
       "      <td>suzuki</td>\n",
       "      <td>Ktm</td>\n",
       "    </tr>\n",
       "    <tr>\n",
       "      <th>30</th>\n",
       "      <td>TATA</td>\n",
       "      <td>pulser</td>\n",
       "    </tr>\n",
       "    <tr>\n",
       "      <th>40</th>\n",
       "      <td>Cambri</td>\n",
       "      <td>shine</td>\n",
       "    </tr>\n",
       "    <tr>\n",
       "      <th>50</th>\n",
       "      <td>ford</td>\n",
       "      <td>honda</td>\n",
       "    </tr>\n",
       "  </tbody>\n",
       "</table>\n",
       "</div>"
      ],
      "text/plain": [
       "      cars   bikes\n",
       "10   Tesla   bajaj\n",
       "20  suzuki     Ktm\n",
       "30    TATA  pulser\n",
       "40  Cambri   shine\n",
       "50    ford   honda"
      ]
     },
     "execution_count": 40,
     "metadata": {},
     "output_type": "execute_result"
    }
   ],
   "source": [
    "import pandas as pd\n",
    "\n",
    "bikes = ['bajaj', 'Ktm', \"pulser\", 'shine', 'honda']\n",
    "cars = ['Tesla', 'suzuki', 'TATA', 'Cambri', 'ford']\n",
    "\n",
    "d = { 'cars': cars, 'bikes': bikes}\n",
    "df = pd.DataFrame(d)\n",
    "df\n",
    "\n",
    "a = [10, 20, 30, 40, 50]\n",
    "\n",
    "df.index = a  #make sure index() don't have bracket, index is not a method, it's a attribute -represent a row label of dF\n",
    "df"
   ]
  },
  {
   "cell_type": "markdown",
   "id": "f9776c76",
   "metadata": {},
   "source": [
    "Q. 6 Create a lambda function which print the sum of all the elements in this list \n",
    "\n",
    "[5,8,10,20,50,100]"
   ]
  },
  {
   "cell_type": "code",
   "execution_count": 41,
   "id": "71ee9782",
   "metadata": {},
   "outputs": [
    {
     "name": "stdout",
     "output_type": "stream",
     "text": [
      "193\n"
     ]
    }
   ],
   "source": [
    "sum_lambda = lambda lst: print(sum(lst))\n",
    "\n",
    "lst = [5,8,10,20,50,100]\n",
    "\n",
    "sum_lambda(lst)\n"
   ]
  },
  {
   "cell_type": "code",
   "execution_count": null,
   "id": "6dd4fd4b",
   "metadata": {},
   "outputs": [],
   "source": []
  },
  {
   "cell_type": "markdown",
   "id": "590948c9",
   "metadata": {},
   "source": [
    "Q.7 What is vstack() in NumPy? Give me an example.\n",
    "\n",
    "NumPy has very popular function called vstack(). It is a function that is used to allign rows vertically. All rows \n",
    "must have same number of elements. "
   ]
  },
  {
   "cell_type": "code",
   "execution_count": 44,
   "id": "83e92c11",
   "metadata": {
    "scrolled": true
   },
   "outputs": [
    {
     "name": "stdout",
     "output_type": "stream",
     "text": [
      "[[10 20 30 40 50]\n",
      " [10 20 30 40 50]]\n"
     ]
    }
   ],
   "source": [
    "import numpy as np\n",
    "n1 = np.array([10, 20, 30, 40, 50])\n",
    "n2 = np.array([10, 20, 30, 40, 50])\n",
    "print(np.vstack((n1,n2)))"
   ]
  },
  {
   "cell_type": "markdown",
   "id": "af7f595c",
   "metadata": {},
   "source": [
    "Q 8 Why python code interpreated?\n",
    "\n",
    "When the python program is written it converts the source souce code written by the developer into intermidiate \n",
    "langauge (IL) first. \n",
    "This is then converted to machine language (0, 1) that needs to be executed. \n",
    "\n",
    "Debugging can be done modularly and on a per-line basis."
   ]
  },
  {
   "cell_type": "markdown",
   "id": "1797b741",
   "metadata": {},
   "source": [
    "Q. How to remove spaces from string in python?\n",
    "\n",
    "Spaces can be removed from a string in python by using strip() or replace() function. \n",
    "strip function is used to remove leading and trailing white space while the replace function is used to remove all\n",
    "the white space in the strings."
   ]
  },
  {
   "cell_type": "code",
   "execution_count": 54,
   "id": "a215a822",
   "metadata": {},
   "outputs": [
    {
     "name": "stdout",
     "output_type": "stream",
     "text": [
      "HelloWorld!\n"
     ]
    }
   ],
   "source": [
    "#exampel \n",
    "\n",
    "x = \" Hello World! \"\n",
    "y = x.strip()\n",
    "z = x.replace(' ', '')  # replaceing ' ' with '' nothing \n",
    "print(z)\n"
   ]
  },
  {
   "cell_type": "markdown",
   "id": "ccb896b0",
   "metadata": {},
   "source": [
    "Q. Explains the file processing modes that python supports?\n",
    "\n",
    "There are four file processing modes in pythons.\n",
    "\n",
    "read only(r), write only (w), read-write (rw), append (a).\n",
    "\n",
    "Binary flags - ('r', 'w', 'rw', and 'a')"
   ]
  },
  {
   "cell_type": "code",
   "execution_count": null,
   "id": "24476fc4",
   "metadata": {},
   "outputs": [],
   "source": []
  },
  {
   "cell_type": "markdown",
   "id": "e5f2917f",
   "metadata": {},
   "source": [
    "Q. what is pickling and unpickling?\n",
    "\n",
    "Pickling is the process of converting a python object hirearchy into a bytes stream for sorting it into a database.\n",
    "Pickling is also known as serialization. Unpickling is reverse of pickling. \n",
    "The byte stream is converted back into object hirearchy. \n"
   ]
  },
  {
   "cell_type": "markdown",
   "id": "1cfa8810",
   "metadata": {},
   "source": [
    "Q. How is memoery managed in python?\n",
    "\n",
    "Memory managed in python comprises of a private heap contaning all the objects and data structure. \n",
    "The heap is managed by interperater and the programmer doesnot have acess to it.\n",
    "\n",
    "The python memory does all the memory allocaion. Morever, there is inbuilt garbage collector that recycles and \n",
    "free memory for the heap space. "
   ]
  },
  {
   "cell_type": "code",
   "execution_count": null,
   "id": "f42add65",
   "metadata": {},
   "outputs": [],
   "source": []
  },
  {
   "cell_type": "markdown",
   "id": "911c58e9",
   "metadata": {},
   "source": [
    "Q. what is the unittest in python?\n",
    "\n",
    "Unittest is a unit testing framework in python!\n",
    "\n",
    "In Python, unittest is a built-in library used for writing and running unit tests. Unit testing is a software\n",
    "testing method where individual units or components of a program are tested in isolation to ensure that they \n",
    "work correctly and meet the expected behavior."
   ]
  },
  {
   "cell_type": "code",
   "execution_count": null,
   "id": "2014ea30",
   "metadata": {},
   "outputs": [],
   "source": []
  },
  {
   "cell_type": "markdown",
   "id": "63bfe7a3",
   "metadata": {},
   "source": [
    "Q. How to delete a file in python?\n",
    "\n",
    "Files can be deleted in python by using either of the following command:\n",
    "os.remove(filename) or os.unlink(filename)."
   ]
  },
  {
   "cell_type": "code",
   "execution_count": null,
   "id": "7e4c4334",
   "metadata": {},
   "outputs": [],
   "source": [
    "import os # os is library module for operating system\n",
    "\n",
    "file_path = \"path/to/your/file.txt\"\n",
    "\n",
    "try:\n",
    "    os.remove(file_path)\n",
    "    print(f\"File '{file_path}' deleted successfully.\")\n",
    "except FileNotFoundError:\n",
    "    print(f\"File '{file_path}' not found.\")\n",
    "except Exception as e:\n",
    "    print(f\"Error occurred while deleting the file: {e}\")\n"
   ]
  },
  {
   "cell_type": "markdown",
   "id": "7c800e7d",
   "metadata": {},
   "source": [
    "Q. How do you create empty calss in python?\n",
    "\n",
    "To create an empty class we can use the pass command after the defination of the class object. \n",
    "A pass is a statement in python that does nothing. "
   ]
  },
  {
   "cell_type": "code",
   "execution_count": null,
   "id": "947dafeb",
   "metadata": {},
   "outputs": [],
   "source": [
    "class EmptyClass:\n",
    "    pass\n",
    "\n",
    "\n",
    "##############################\n",
    "\n",
    "class EmptyClassWithDocstring:\n",
    "    \"\"\"\n",
    "    This is an empty class with a docstring.\n",
    "    \"\"\"\n",
    "    pass"
   ]
  },
  {
   "cell_type": "markdown",
   "id": "2135503f",
   "metadata": {},
   "source": [
    "Q. What are python decorators?\n",
    "\n",
    "Decorators are functions that take another functions as argument to modify its behaviour without changing the function itself.\n",
    "This is useful when we want to dynamically increase the functionality of a function without changing it. "
   ]
  },
  {
   "cell_type": "code",
   "execution_count": null,
   "id": "98784fce",
   "metadata": {},
   "outputs": [],
   "source": []
  },
  {
   "cell_type": "markdown",
   "id": "e49bf207",
   "metadata": {},
   "source": [
    "Q. What does early binding mean?\n",
    "\n",
    "Early binding is a popular concept in OOPs that is used for many purposes. \n",
    "Majorly, it is used to assign value during compile time to save a lot of time during the execution of the entire project. \n",
    "\n",
    "In very simple terms, early binding in Python means that when you define a variable or function, Python figures out what it represents (what it refers to) right away, before the code is actually run.\n",
    "\n",
    "Imagine you have a box (variable) labeled \"x,\" and you put a value of 5 inside it. When you write code like x + 3, Python knows that x represents the value 5 because it checked it when the code was defined.\n",
    "\n",
    "Early binding is like putting labels on boxes beforehand. Python looks at the labels and knows what's inside each box without needing to open them later. This helps Python run the code faster and be more efficient."
   ]
  },
  {
   "cell_type": "code",
   "execution_count": null,
   "id": "e86c8cb7",
   "metadata": {},
   "outputs": [],
   "source": [
    "def add(a, b):   # the def function with parameters a and b \n",
    "    return a + b\n",
    "\n",
    "x = 5\n",
    "y = 10\n",
    "result = add(x, y)\n",
    "print(result)\n"
   ]
  },
  {
   "cell_type": "code",
   "execution_count": 57,
   "id": "ba58146d",
   "metadata": {},
   "outputs": [
    {
     "name": "stdout",
     "output_type": "stream",
     "text": [
      "22\n"
     ]
    }
   ],
   "source": [
    "#Q. what will be the output of the following python code?\n",
    "def func():\n",
    "    for x in range (22, 23, 34):\n",
    "        print(x)\n",
    "        \n",
    "func()"
   ]
  },
  {
   "cell_type": "code",
   "execution_count": 58,
   "id": "73fd1412",
   "metadata": {},
   "outputs": [
    {
     "name": "stdout",
     "output_type": "stream",
     "text": [
      "0\n"
     ]
    }
   ],
   "source": [
    "my_dict = {'a':1, 'b':2, 'c': 3}\n",
    "result = my_dict.get('d',0) # the d is not in the dictonary so get method will give the default value \n",
    "print(result)"
   ]
  },
  {
   "cell_type": "code",
   "execution_count": 60,
   "id": "16f5c4d9",
   "metadata": {},
   "outputs": [
    {
     "ename": "SyntaxError",
     "evalue": "invalid syntax (3881783334.py, line 1)",
     "output_type": "error",
     "traceback": [
      "\u001b[0;36m  File \u001b[0;32m\"/var/folders/_n/yqkwhlp51y5g1jy3k678jv8w0000gn/T/ipykernel_69669/3881783334.py\"\u001b[0;36m, line \u001b[0;32m1\u001b[0m\n\u001b[0;31m    class Rectangle # the class will have methods and attributes to describe the class rectangel\u001b[0m\n\u001b[0m                    ^\u001b[0m\n\u001b[0;31mSyntaxError\u001b[0m\u001b[0;31m:\u001b[0m invalid syntax\n"
     ]
    }
   ],
   "source": [
    "class Rectangle: # the class will have methods and attributes to describe the class rectangel\n",
    "    def __init__(self,width,height): # construction method of the rectangle calss\n",
    "        self.width = width # width and height values are assigned to the attributes width and height of the class instance self\n",
    "        self.height = height #when you create an instance of the Rectangle class, you can set the width and height values.\n",
    "        \n",
    "rect = Rectangle(5,3)#This line creates an instance of the Rectangle class and assigns it to the variable rect\n",
    "\n",
    "# The values 5 and 3 are passed as arguments to the constructor to set the width and height of the rectangle instance.\n",
    "print(rect.width)   #his line prints the value of the width attribute of the rect object. Since you created the rect object with a width of 5, accessing rect.width will give you the value 5."
   ]
  },
  {
   "cell_type": "code",
   "execution_count": null,
   "id": "4d139301",
   "metadata": {},
   "outputs": [],
   "source": []
  }
 ],
 "metadata": {
  "kernelspec": {
   "display_name": "Python 3 (ipykernel)",
   "language": "python",
   "name": "python3"
  },
  "language_info": {
   "codemirror_mode": {
    "name": "ipython",
    "version": 3
   },
   "file_extension": ".py",
   "mimetype": "text/x-python",
   "name": "python",
   "nbconvert_exporter": "python",
   "pygments_lexer": "ipython3",
   "version": "3.9.7"
  }
 },
 "nbformat": 4,
 "nbformat_minor": 5
}
